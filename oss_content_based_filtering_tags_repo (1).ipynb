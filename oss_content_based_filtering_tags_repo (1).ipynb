{
  "nbformat": 4,
  "nbformat_minor": 0,
  "metadata": {
    "colab": {
      "provenance": []
    },
    "kernelspec": {
      "name": "python3",
      "display_name": "Python 3"
    },
    "language_info": {
      "name": "python"
    }
  },
  "cells": [
    {
      "cell_type": "markdown",
      "source": [
        "# **Content Based Filtering Recommendation System Using Neural Networks**"
      ],
      "metadata": {
        "id": "w_sauF-yVw9j"
      }
    },
    {
      "cell_type": "markdown",
      "source": [
        "Import all the necessary libraries"
      ],
      "metadata": {
        "id": "tXlFGssQV3Hh"
      }
    },
    {
      "cell_type": "code",
      "source": [
        "import pandas as pd\n",
        "import numpy as np\n",
        "from gensim.models import Word2Vec\n",
        "from gensim.utils import simple_preprocess\n",
        "from sklearn.metrics.pairwise import cosine_similarity"
      ],
      "metadata": {
        "id": "x8Xa7p8uWD_q"
      },
      "execution_count": null,
      "outputs": []
    },
    {
      "cell_type": "markdown",
      "source": [
        "Import the dataset"
      ],
      "metadata": {
        "id": "yJqnIEjgWGAw"
      }
    },
    {
      "cell_type": "code",
      "source": [
        "df = pd.read_csv('oss_data.csv')\n",
        "df.fillna(method='ffill', inplace=True)\n",
        "df"
      ],
      "metadata": {
        "colab": {
          "base_uri": "https://localhost:8080/",
          "height": 1000
        },
        "id": "RIS_BiCbWMFt",
        "outputId": "3e1aa3d9-347d-463e-e260-fd04789dddb7"
      },
      "execution_count": null,
      "outputs": [
        {
          "output_type": "execute_result",
          "data": {
            "text/plain": [
              "                                name  \\\n",
              "0                          ACMESharp   \n",
              "1                          ACMESharp   \n",
              "2                          ACMESharp   \n",
              "3                          ACMESharp   \n",
              "4                          ACMESharp   \n",
              "...                              ...   \n",
              "6247                       Academico   \n",
              "6248  Accessibility Insights for Web   \n",
              "6249  Accessibility Insights for Web   \n",
              "6250  Accessibility Insights for Web   \n",
              "6251  Accessibility Insights for Web   \n",
              "\n",
              "                                                   desc  \\\n",
              "0     .NET Library and PowerShell module for the ACM...   \n",
              "1     .NET Library and PowerShell module for the ACM...   \n",
              "2     .NET Library and PowerShell module for the ACM...   \n",
              "3     .NET Library and PowerShell module for the ACM...   \n",
              "4     .NET Library and PowerShell module for the ACM...   \n",
              "...                                                 ...   \n",
              "6247  A simple, Laravel-based school management plat...   \n",
              "6248  Accessibility Insights for Web is a Google Chr...   \n",
              "6249  Accessibility Insights for Web is a Google Chr...   \n",
              "6250  Accessibility Insights for Web is a Google Chr...   \n",
              "6251  Accessibility Insights for Web is a Google Chr...   \n",
              "\n",
              "                                      site              tags  Unnamed: 4  \\\n",
              "0     https://github.com/ebekker/ACMESharp              .net         NaN   \n",
              "1     https://github.com/ebekker/ACMESharp                c#         NaN   \n",
              "2     https://github.com/ebekker/ACMESharp        powershell         NaN   \n",
              "3     https://github.com/ebekker/ACMESharp          security         NaN   \n",
              "4     https://github.com/ebekker/ACMESharp               aws         NaN   \n",
              "...                                    ...               ...         ...   \n",
              "6247                https://academico.site             vuejs         NaN   \n",
              "6248      https://accessibilityinsights.io  chrome-extension         NaN   \n",
              "6249      https://accessibilityinsights.io           reactjs         NaN   \n",
              "6250      https://accessibilityinsights.io        typescript         NaN   \n",
              "6251      https://accessibilityinsights.io     accessibility         NaN   \n",
              "\n",
              "                                       upforgrabs__link stats__issue-count  \\\n",
              "0     https://github.com/ebekker/ACMESharp/labels/up...                  0   \n",
              "1     https://github.com/ebekker/ACMESharp/labels/up...                  0   \n",
              "2     https://github.com/ebekker/ACMESharp/labels/up...                  0   \n",
              "3     https://github.com/ebekker/ACMESharp/labels/up...                  0   \n",
              "4     https://github.com/ebekker/ACMESharp/labels/up...                  0   \n",
              "...                                                 ...                ...   \n",
              "6247  https://github.com/academico-sis/academico/lab...                 10   \n",
              "6248  https://github.com/microsoft/accessibility-ins...                  7   \n",
              "6249  https://github.com/microsoft/accessibility-ins...                  7   \n",
              "6250  https://github.com/microsoft/accessibility-ins...                  7   \n",
              "6251  https://github.com/microsoft/accessibility-ins...                  7   \n",
              "\n",
              "      Unnamed: 7            Unnamed: 8  \n",
              "0            NaN                   NaN  \n",
              "1            NaN                   NaN  \n",
              "2            NaN                   NaN  \n",
              "3            NaN                   NaN  \n",
              "4            NaN                   NaN  \n",
              "...          ...                   ...  \n",
              "6247         NaN  2023-02-07T13:20:04Z  \n",
              "6248         NaN  2023-02-07T13:20:04Z  \n",
              "6249         NaN  2023-02-07T13:20:04Z  \n",
              "6250         NaN  2023-02-07T13:20:04Z  \n",
              "6251         NaN  2023-02-07T13:20:04Z  \n",
              "\n",
              "[6252 rows x 9 columns]"
            ],
            "text/html": [
              "\n",
              "  <div id=\"df-9c44bb88-8ac3-4350-bde5-1a6e64a15b8f\">\n",
              "    <div class=\"colab-df-container\">\n",
              "      <div>\n",
              "<style scoped>\n",
              "    .dataframe tbody tr th:only-of-type {\n",
              "        vertical-align: middle;\n",
              "    }\n",
              "\n",
              "    .dataframe tbody tr th {\n",
              "        vertical-align: top;\n",
              "    }\n",
              "\n",
              "    .dataframe thead th {\n",
              "        text-align: right;\n",
              "    }\n",
              "</style>\n",
              "<table border=\"1\" class=\"dataframe\">\n",
              "  <thead>\n",
              "    <tr style=\"text-align: right;\">\n",
              "      <th></th>\n",
              "      <th>name</th>\n",
              "      <th>desc</th>\n",
              "      <th>site</th>\n",
              "      <th>tags</th>\n",
              "      <th>Unnamed: 4</th>\n",
              "      <th>upforgrabs__link</th>\n",
              "      <th>stats__issue-count</th>\n",
              "      <th>Unnamed: 7</th>\n",
              "      <th>Unnamed: 8</th>\n",
              "    </tr>\n",
              "  </thead>\n",
              "  <tbody>\n",
              "    <tr>\n",
              "      <th>0</th>\n",
              "      <td>ACMESharp</td>\n",
              "      <td>.NET Library and PowerShell module for the ACM...</td>\n",
              "      <td>https://github.com/ebekker/ACMESharp</td>\n",
              "      <td>.net</td>\n",
              "      <td>NaN</td>\n",
              "      <td>https://github.com/ebekker/ACMESharp/labels/up...</td>\n",
              "      <td>0</td>\n",
              "      <td>NaN</td>\n",
              "      <td>NaN</td>\n",
              "    </tr>\n",
              "    <tr>\n",
              "      <th>1</th>\n",
              "      <td>ACMESharp</td>\n",
              "      <td>.NET Library and PowerShell module for the ACM...</td>\n",
              "      <td>https://github.com/ebekker/ACMESharp</td>\n",
              "      <td>c#</td>\n",
              "      <td>NaN</td>\n",
              "      <td>https://github.com/ebekker/ACMESharp/labels/up...</td>\n",
              "      <td>0</td>\n",
              "      <td>NaN</td>\n",
              "      <td>NaN</td>\n",
              "    </tr>\n",
              "    <tr>\n",
              "      <th>2</th>\n",
              "      <td>ACMESharp</td>\n",
              "      <td>.NET Library and PowerShell module for the ACM...</td>\n",
              "      <td>https://github.com/ebekker/ACMESharp</td>\n",
              "      <td>powershell</td>\n",
              "      <td>NaN</td>\n",
              "      <td>https://github.com/ebekker/ACMESharp/labels/up...</td>\n",
              "      <td>0</td>\n",
              "      <td>NaN</td>\n",
              "      <td>NaN</td>\n",
              "    </tr>\n",
              "    <tr>\n",
              "      <th>3</th>\n",
              "      <td>ACMESharp</td>\n",
              "      <td>.NET Library and PowerShell module for the ACM...</td>\n",
              "      <td>https://github.com/ebekker/ACMESharp</td>\n",
              "      <td>security</td>\n",
              "      <td>NaN</td>\n",
              "      <td>https://github.com/ebekker/ACMESharp/labels/up...</td>\n",
              "      <td>0</td>\n",
              "      <td>NaN</td>\n",
              "      <td>NaN</td>\n",
              "    </tr>\n",
              "    <tr>\n",
              "      <th>4</th>\n",
              "      <td>ACMESharp</td>\n",
              "      <td>.NET Library and PowerShell module for the ACM...</td>\n",
              "      <td>https://github.com/ebekker/ACMESharp</td>\n",
              "      <td>aws</td>\n",
              "      <td>NaN</td>\n",
              "      <td>https://github.com/ebekker/ACMESharp/labels/up...</td>\n",
              "      <td>0</td>\n",
              "      <td>NaN</td>\n",
              "      <td>NaN</td>\n",
              "    </tr>\n",
              "    <tr>\n",
              "      <th>...</th>\n",
              "      <td>...</td>\n",
              "      <td>...</td>\n",
              "      <td>...</td>\n",
              "      <td>...</td>\n",
              "      <td>...</td>\n",
              "      <td>...</td>\n",
              "      <td>...</td>\n",
              "      <td>...</td>\n",
              "      <td>...</td>\n",
              "    </tr>\n",
              "    <tr>\n",
              "      <th>6247</th>\n",
              "      <td>Academico</td>\n",
              "      <td>A simple, Laravel-based school management plat...</td>\n",
              "      <td>https://academico.site</td>\n",
              "      <td>vuejs</td>\n",
              "      <td>NaN</td>\n",
              "      <td>https://github.com/academico-sis/academico/lab...</td>\n",
              "      <td>10</td>\n",
              "      <td>NaN</td>\n",
              "      <td>2023-02-07T13:20:04Z</td>\n",
              "    </tr>\n",
              "    <tr>\n",
              "      <th>6248</th>\n",
              "      <td>Accessibility Insights for Web</td>\n",
              "      <td>Accessibility Insights for Web is a Google Chr...</td>\n",
              "      <td>https://accessibilityinsights.io</td>\n",
              "      <td>chrome-extension</td>\n",
              "      <td>NaN</td>\n",
              "      <td>https://github.com/microsoft/accessibility-ins...</td>\n",
              "      <td>7</td>\n",
              "      <td>NaN</td>\n",
              "      <td>2023-02-07T13:20:04Z</td>\n",
              "    </tr>\n",
              "    <tr>\n",
              "      <th>6249</th>\n",
              "      <td>Accessibility Insights for Web</td>\n",
              "      <td>Accessibility Insights for Web is a Google Chr...</td>\n",
              "      <td>https://accessibilityinsights.io</td>\n",
              "      <td>reactjs</td>\n",
              "      <td>NaN</td>\n",
              "      <td>https://github.com/microsoft/accessibility-ins...</td>\n",
              "      <td>7</td>\n",
              "      <td>NaN</td>\n",
              "      <td>2023-02-07T13:20:04Z</td>\n",
              "    </tr>\n",
              "    <tr>\n",
              "      <th>6250</th>\n",
              "      <td>Accessibility Insights for Web</td>\n",
              "      <td>Accessibility Insights for Web is a Google Chr...</td>\n",
              "      <td>https://accessibilityinsights.io</td>\n",
              "      <td>typescript</td>\n",
              "      <td>NaN</td>\n",
              "      <td>https://github.com/microsoft/accessibility-ins...</td>\n",
              "      <td>7</td>\n",
              "      <td>NaN</td>\n",
              "      <td>2023-02-07T13:20:04Z</td>\n",
              "    </tr>\n",
              "    <tr>\n",
              "      <th>6251</th>\n",
              "      <td>Accessibility Insights for Web</td>\n",
              "      <td>Accessibility Insights for Web is a Google Chr...</td>\n",
              "      <td>https://accessibilityinsights.io</td>\n",
              "      <td>accessibility</td>\n",
              "      <td>NaN</td>\n",
              "      <td>https://github.com/microsoft/accessibility-ins...</td>\n",
              "      <td>7</td>\n",
              "      <td>NaN</td>\n",
              "      <td>2023-02-07T13:20:04Z</td>\n",
              "    </tr>\n",
              "  </tbody>\n",
              "</table>\n",
              "<p>6252 rows × 9 columns</p>\n",
              "</div>\n",
              "      <button class=\"colab-df-convert\" onclick=\"convertToInteractive('df-9c44bb88-8ac3-4350-bde5-1a6e64a15b8f')\"\n",
              "              title=\"Convert this dataframe to an interactive table.\"\n",
              "              style=\"display:none;\">\n",
              "        \n",
              "  <svg xmlns=\"http://www.w3.org/2000/svg\" height=\"24px\"viewBox=\"0 0 24 24\"\n",
              "       width=\"24px\">\n",
              "    <path d=\"M0 0h24v24H0V0z\" fill=\"none\"/>\n",
              "    <path d=\"M18.56 5.44l.94 2.06.94-2.06 2.06-.94-2.06-.94-.94-2.06-.94 2.06-2.06.94zm-11 1L8.5 8.5l.94-2.06 2.06-.94-2.06-.94L8.5 2.5l-.94 2.06-2.06.94zm10 10l.94 2.06.94-2.06 2.06-.94-2.06-.94-.94-2.06-.94 2.06-2.06.94z\"/><path d=\"M17.41 7.96l-1.37-1.37c-.4-.4-.92-.59-1.43-.59-.52 0-1.04.2-1.43.59L10.3 9.45l-7.72 7.72c-.78.78-.78 2.05 0 2.83L4 21.41c.39.39.9.59 1.41.59.51 0 1.02-.2 1.41-.59l7.78-7.78 2.81-2.81c.8-.78.8-2.07 0-2.86zM5.41 20L4 18.59l7.72-7.72 1.47 1.35L5.41 20z\"/>\n",
              "  </svg>\n",
              "      </button>\n",
              "      \n",
              "  <style>\n",
              "    .colab-df-container {\n",
              "      display:flex;\n",
              "      flex-wrap:wrap;\n",
              "      gap: 12px;\n",
              "    }\n",
              "\n",
              "    .colab-df-convert {\n",
              "      background-color: #E8F0FE;\n",
              "      border: none;\n",
              "      border-radius: 50%;\n",
              "      cursor: pointer;\n",
              "      display: none;\n",
              "      fill: #1967D2;\n",
              "      height: 32px;\n",
              "      padding: 0 0 0 0;\n",
              "      width: 32px;\n",
              "    }\n",
              "\n",
              "    .colab-df-convert:hover {\n",
              "      background-color: #E2EBFA;\n",
              "      box-shadow: 0px 1px 2px rgba(60, 64, 67, 0.3), 0px 1px 3px 1px rgba(60, 64, 67, 0.15);\n",
              "      fill: #174EA6;\n",
              "    }\n",
              "\n",
              "    [theme=dark] .colab-df-convert {\n",
              "      background-color: #3B4455;\n",
              "      fill: #D2E3FC;\n",
              "    }\n",
              "\n",
              "    [theme=dark] .colab-df-convert:hover {\n",
              "      background-color: #434B5C;\n",
              "      box-shadow: 0px 1px 3px 1px rgba(0, 0, 0, 0.15);\n",
              "      filter: drop-shadow(0px 1px 2px rgba(0, 0, 0, 0.3));\n",
              "      fill: #FFFFFF;\n",
              "    }\n",
              "  </style>\n",
              "\n",
              "      <script>\n",
              "        const buttonEl =\n",
              "          document.querySelector('#df-9c44bb88-8ac3-4350-bde5-1a6e64a15b8f button.colab-df-convert');\n",
              "        buttonEl.style.display =\n",
              "          google.colab.kernel.accessAllowed ? 'block' : 'none';\n",
              "\n",
              "        async function convertToInteractive(key) {\n",
              "          const element = document.querySelector('#df-9c44bb88-8ac3-4350-bde5-1a6e64a15b8f');\n",
              "          const dataTable =\n",
              "            await google.colab.kernel.invokeFunction('convertToInteractive',\n",
              "                                                     [key], {});\n",
              "          if (!dataTable) return;\n",
              "\n",
              "          const docLinkHtml = 'Like what you see? Visit the ' +\n",
              "            '<a target=\"_blank\" href=https://colab.research.google.com/notebooks/data_table.ipynb>data table notebook</a>'\n",
              "            + ' to learn more about interactive tables.';\n",
              "          element.innerHTML = '';\n",
              "          dataTable['output_type'] = 'display_data';\n",
              "          await google.colab.output.renderOutput(dataTable, element);\n",
              "          const docLink = document.createElement('div');\n",
              "          docLink.innerHTML = docLinkHtml;\n",
              "          element.appendChild(docLink);\n",
              "        }\n",
              "      </script>\n",
              "    </div>\n",
              "  </div>\n",
              "  "
            ]
          },
          "metadata": {},
          "execution_count": 2
        }
      ]
    },
    {
      "cell_type": "markdown",
      "source": [
        "Combining the different attributes of the dataset into a single string"
      ],
      "metadata": {
        "id": "3IatYPOmWQga"
      }
    },
    {
      "cell_type": "code",
      "source": [
        "# Combining the different attributes of the dataset into a single string\n",
        "df['content'] = df['name'].astype(str) + ' ' + df['desc'].astype(str) + ' ' + df['tags'] + ' ' + df['upforgrabs__link'].astype(str)\n",
        "df['content'] = df['content'].fillna('')\n",
        "df['content']"
      ],
      "metadata": {
        "colab": {
          "base_uri": "https://localhost:8080/"
        },
        "id": "qTln6dA0WZ8G",
        "outputId": "b8479c2c-affe-446b-ffe5-caee1f5a7568"
      },
      "execution_count": null,
      "outputs": [
        {
          "output_type": "execute_result",
          "data": {
            "text/plain": [
              "0       ACMESharp .NET Library and PowerShell module f...\n",
              "1       ACMESharp .NET Library and PowerShell module f...\n",
              "2       ACMESharp .NET Library and PowerShell module f...\n",
              "3       ACMESharp .NET Library and PowerShell module f...\n",
              "4       ACMESharp .NET Library and PowerShell module f...\n",
              "                              ...                        \n",
              "6247    Academico A simple, Laravel-based school manag...\n",
              "6248    Accessibility Insights for Web Accessibility I...\n",
              "6249    Accessibility Insights for Web Accessibility I...\n",
              "6250    Accessibility Insights for Web Accessibility I...\n",
              "6251    Accessibility Insights for Web Accessibility I...\n",
              "Name: content, Length: 6252, dtype: object"
            ]
          },
          "metadata": {},
          "execution_count": 3
        }
      ]
    },
    {
      "cell_type": "markdown",
      "source": [
        "Tokenize content for Word2Vec"
      ],
      "metadata": {
        "id": "j00AFEYnWfQE"
      }
    },
    {
      "cell_type": "code",
      "source": [
        "# Tokenize content for Word2Vec\n",
        "df['tokenized_content'] = df['content'].apply(simple_preprocess)\n",
        "df['tokenized_content']"
      ],
      "metadata": {
        "colab": {
          "base_uri": "https://localhost:8080/"
        },
        "id": "oSKnjKXjWygZ",
        "outputId": "f53a75ff-2ae4-49c2-a56f-cf92777bf4a7"
      },
      "execution_count": null,
      "outputs": [
        {
          "output_type": "execute_result",
          "data": {
            "text/plain": [
              "0       [acmesharp, net, library, and, powershell, mod...\n",
              "1       [acmesharp, net, library, and, powershell, mod...\n",
              "2       [acmesharp, net, library, and, powershell, mod...\n",
              "3       [acmesharp, net, library, and, powershell, mod...\n",
              "4       [acmesharp, net, library, and, powershell, mod...\n",
              "                              ...                        \n",
              "6247    [academico, simple, laravel, based, school, ma...\n",
              "6248    [accessibility, insights, for, web, accessibil...\n",
              "6249    [accessibility, insights, for, web, accessibil...\n",
              "6250    [accessibility, insights, for, web, accessibil...\n",
              "6251    [accessibility, insights, for, web, accessibil...\n",
              "Name: tokenized_content, Length: 6252, dtype: object"
            ]
          },
          "metadata": {},
          "execution_count": 4
        }
      ]
    },
    {
      "cell_type": "markdown",
      "source": [
        "Training the Word2Vec model"
      ],
      "metadata": {
        "id": "FNbfthx_WrcU"
      }
    },
    {
      "cell_type": "code",
      "source": [
        "#Training the Word2Vec model\n",
        "model = Word2Vec(vector_size=100, window=5, min_count=1, workers=4)\n",
        "model.build_vocab(df['tokenized_content'])\n",
        "model.train(df['tokenized_content'], total_examples=model.corpus_count, epochs=10)\n"
      ],
      "metadata": {
        "id": "DKh11bEQWpWw",
        "colab": {
          "base_uri": "https://localhost:8080/"
        },
        "outputId": "d2e20c13-a3d0-4f3b-d511-bf75c63a5969"
      },
      "execution_count": null,
      "outputs": [
        {
          "output_type": "execute_result",
          "data": {
            "text/plain": [
              "(1288520, 1763240)"
            ]
          },
          "metadata": {},
          "execution_count": 5
        }
      ]
    },
    {
      "cell_type": "markdown",
      "source": [
        "Function to average word vectors for a text"
      ],
      "metadata": {
        "id": "cQTHFk6UX7JT"
      }
    },
    {
      "cell_type": "code",
      "source": [
        "# Function to average word vectors for a text - computes avg word vectors for a given text using trained Word2Vec model\n",
        "def average_word_vectors(words, model, vocabulary, num_features):\n",
        "    feature_vector = np.zeros((num_features,), dtype=\"float64\")\n",
        "    nwords = 0.\n",
        "    \n",
        "    for word in words:\n",
        "        if word in vocabulary: \n",
        "            nwords = nwords + 1.\n",
        "            feature_vector = np.add(feature_vector, model.wv[word])\n",
        "    \n",
        "    if nwords:\n",
        "        feature_vector = np.divide(feature_vector, nwords)\n",
        "        \n",
        "    return feature_vector"
      ],
      "metadata": {
        "id": "cRNBKNVLX6ir"
      },
      "execution_count": null,
      "outputs": []
    },
    {
      "cell_type": "markdown",
      "source": [
        "Function to compute average word vectors for all repos"
      ],
      "metadata": {
        "id": "C0uQQ5-0YDc0"
      }
    },
    {
      "cell_type": "code",
      "source": [
        "# Function to compute average word vectors for all repos - applies avg word vectors function to a collection of text\n",
        "def averaged_word_vectorizer(corpus, model, num_features):\n",
        "    vocabulary = set(model.wv.index_to_key)\n",
        "    features = [average_word_vectors(tokenized_sentence, model, vocabulary, num_features) for tokenized_sentence in corpus]\n",
        "    return np.array(features)"
      ],
      "metadata": {
        "id": "F8FhF3fbYPQF"
      },
      "execution_count": null,
      "outputs": []
    },
    {
      "cell_type": "markdown",
      "source": [
        "Compute average word vectors for all repos"
      ],
      "metadata": {
        "id": "eBT0MqwOYp0Z"
      }
    },
    {
      "cell_type": "code",
      "source": [
        "# Compute average word vectors for all repos\n",
        "w2v_feature_array = averaged_word_vectorizer(corpus=df['tokenized_content'], model=model, num_features=100)"
      ],
      "metadata": {
        "id": "Qb5piEngYnnz"
      },
      "execution_count": null,
      "outputs": []
    },
    {
      "cell_type": "markdown",
      "source": [
        "Processing & Output"
      ],
      "metadata": {
        "id": "c1zRLrDBY_eL"
      }
    },
    {
      "cell_type": "code",
      "execution_count": null,
      "metadata": {
        "colab": {
          "base_uri": "https://localhost:8080/"
        },
        "id": "GcmKzqy9CEnR",
        "outputId": "13db2239-2aaa-4e0f-bc9e-a6f960f56ad0"
      },
      "outputs": [
        {
          "output_type": "stream",
          "name": "stdout",
          "text": [
            "Enter a Tag or the name of the repo: web server\n",
            "5563: webserver: StirFry: https://github.com/StirFry-js/stirfry/labels/help%20wanted\n",
            "1569: video-editing: etro: https://github.com/etro-js/etro/labels/help%20wanted\n",
            "1665: open-source: Freedomotic Vue Webapp: https://github.com/freedomotic/fd-vue-webapp/labels/help%20wanted\n",
            "6020: user-interface: Vue.js: https://github.com/vuejs/vue/labels/contribution%20welcome\n",
            "5753: node.js: The Lounge: https://github.com/thelounge/thelounge/labels/help%20wanted\n",
            "1094: decentralized: CypherPoker.JS: https://github.com/monicanagent/cypherpoker.js/labels/help%20wanted\n",
            "2362: node.js: Infisical: https://github.com/Infisical/infisical/labels/help%20wanted\n",
            "3279: web: monument: https://github.com/ansble/monument/labels/first%20contribution\n",
            "3244: javascript: mockingcase: https://github.com/strdr4605/mockingcase/labels/help%20wanted\n",
            "45: node.js: AlaSQL: https://github.com/AlaSQL/alasql/labels/Help%20wanted\n",
            "4460: lock: PatternLockJS: https://github.com/phenax/pattern-lock-js/labels/help%20wanted\n",
            "1656: consul: Fakta: https://github.com/logibit/Fakta/labels/help%20wanted\n"
          ]
        }
      ],
      "source": [
        "# Get the user input\n",
        "user_oss = input(\"Enter a Tag or the name of the repo: \").strip().replace(\" \", \"\") \n",
        "\n",
        "# accept input with spaces and remove spaces\n",
        "oss_index = np.nan\n",
        "if ((df['tags'] == user_oss).any()): \n",
        "    oss_index = df.loc[df['tags'] == user_oss].index[0]\n",
        "else:\n",
        "    oss_index = df.loc[df['name'] == user_oss].index[0] if ((df['name'] == user_oss).any()) else np.nan\n",
        "\n",
        "if not np.isnan(oss_index):\n",
        "    # Compute the cosine similarities between the user repo and all other repo\n",
        "    user_oss_vector = w2v_feature_array[oss_index].reshape(1, -1)\n",
        "    similarity_scores = cosine_similarity(user_oss_vector, w2v_feature_array)\n",
        "\n",
        "    # Get the top 20 most similar repos\n",
        "    similar_repos = list(enumerate(similarity_scores[0]))\n",
        "    sorted_similar_repos = sorted(similar_repos, key=lambda x: x[1], reverse=True)[:50]\n",
        "\n",
        "    # Print the top 20 similar repos\n",
        "    printed_names = [] # List to keep track of printed names\n",
        "    for i, score in sorted_similar_repos:\n",
        "        name = df.loc[i, 'name']\n",
        "        if name not in printed_names: # Check if name has already been printed\n",
        "            tags = df.loc[i, 'tags']\n",
        "            link = df.loc[i, 'upforgrabs__link']\n",
        "            print(\"{}: {}: {}: {}\".format(i, tags, name, link))\n",
        "            printed_names.append(name) # Add name to printed names list\n",
        "else:\n",
        "    if not user_oss:\n",
        "        print(\"Kindly enter the input without spaces or input shouldn't be empty.\")\n",
        "    else:\n",
        "        print(\"No matching repository found.\")\n",
        "\n"
      ]
    }
  ]
}