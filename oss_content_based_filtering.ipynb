{
  "nbformat": 4,
  "nbformat_minor": 0,
  "metadata": {
    "colab": {
      "provenance": []
    },
    "kernelspec": {
      "name": "python3",
      "display_name": "Python 3"
    },
    "language_info": {
      "name": "python"
    }
  },
  "cells": [
    {
      "cell_type": "markdown",
      "source": [
        "# **Content Based Filtering Recommendation System Using Neural Networks**"
      ],
      "metadata": {
        "id": "w_sauF-yVw9j"
      }
    },
    {
      "cell_type": "markdown",
      "source": [
        "Import all the necessary libraries"
      ],
      "metadata": {
        "id": "tXlFGssQV3Hh"
      }
    },
    {
      "cell_type": "code",
      "source": [
        "import pandas as pd\n",
        "import numpy as np\n",
        "from gensim.models import Word2Vec\n",
        "from gensim.utils import simple_preprocess\n",
        "from sklearn.metrics.pairwise import cosine_similarity"
      ],
      "metadata": {
        "id": "x8Xa7p8uWD_q"
      },
      "execution_count": null,
      "outputs": []
    },
    {
      "cell_type": "markdown",
      "source": [
        "Import the dataset"
      ],
      "metadata": {
        "id": "yJqnIEjgWGAw"
      }
    },
    {
      "cell_type": "code",
      "source": [
        "df = pd.read_csv('oss_data.csv')\n",
        "df"
      ],
      "metadata": {
        "colab": {
          "base_uri": "https://localhost:8080/",
          "height": 623
        },
        "id": "RIS_BiCbWMFt",
        "outputId": "bbb50a0e-3f59-4cc8-ad1b-611f635c9dfa"
      },
      "execution_count": 11,
      "outputs": [
        {
          "output_type": "execute_result",
          "data": {
            "text/plain": [
              "                                name  \\\n",
              "0                          ACMESharp   \n",
              "1                                NaN   \n",
              "2                                NaN   \n",
              "3                                NaN   \n",
              "4                                NaN   \n",
              "...                              ...   \n",
              "6247                             NaN   \n",
              "6248  Accessibility Insights for Web   \n",
              "6249                             NaN   \n",
              "6250                             NaN   \n",
              "6251                             NaN   \n",
              "\n",
              "                                                   desc  \\\n",
              "0     .NET Library and PowerShell module for the ACM...   \n",
              "1                                                   NaN   \n",
              "2                                                   NaN   \n",
              "3                                                   NaN   \n",
              "4                                                   NaN   \n",
              "...                                                 ...   \n",
              "6247                                                NaN   \n",
              "6248  Accessibility Insights for Web is a Google Chr...   \n",
              "6249                                                NaN   \n",
              "6250                                                NaN   \n",
              "6251                                                NaN   \n",
              "\n",
              "                                      site              tags  Unnamed: 4  \\\n",
              "0     https://github.com/ebekker/ACMESharp              .net         NaN   \n",
              "1                                      NaN                c#         NaN   \n",
              "2                                      NaN        powershell         NaN   \n",
              "3                                      NaN          security         NaN   \n",
              "4                                      NaN               aws         NaN   \n",
              "...                                    ...               ...         ...   \n",
              "6247                                   NaN             vuejs         NaN   \n",
              "6248      https://accessibilityinsights.io  chrome-extension         NaN   \n",
              "6249                                   NaN           reactjs         NaN   \n",
              "6250                                   NaN        typescript         NaN   \n",
              "6251                                   NaN     accessibility         NaN   \n",
              "\n",
              "                                       upforgrabs__link stats__issue-count  \\\n",
              "0     https://github.com/ebekker/ACMESharp/labels/up...                  0   \n",
              "1                                                   NaN                NaN   \n",
              "2                                                   NaN                NaN   \n",
              "3                                                   NaN                NaN   \n",
              "4                                                   NaN                NaN   \n",
              "...                                                 ...                ...   \n",
              "6247                                                NaN                NaN   \n",
              "6248  https://github.com/microsoft/accessibility-ins...                  7   \n",
              "6249                                                NaN                NaN   \n",
              "6250                                                NaN                NaN   \n",
              "6251                                                NaN                NaN   \n",
              "\n",
              "      Unnamed: 7 Unnamed: 8  \n",
              "0            NaN        NaN  \n",
              "1            NaN        NaN  \n",
              "2            NaN        NaN  \n",
              "3            NaN        NaN  \n",
              "4            NaN        NaN  \n",
              "...          ...        ...  \n",
              "6247         NaN        NaN  \n",
              "6248         NaN        NaN  \n",
              "6249         NaN        NaN  \n",
              "6250         NaN        NaN  \n",
              "6251         NaN        NaN  \n",
              "\n",
              "[6252 rows x 9 columns]"
            ],
            "text/html": [
              "\n",
              "  <div id=\"df-5b092101-a2c1-4c75-9627-dffcd7e8f7e4\">\n",
              "    <div class=\"colab-df-container\">\n",
              "      <div>\n",
              "<style scoped>\n",
              "    .dataframe tbody tr th:only-of-type {\n",
              "        vertical-align: middle;\n",
              "    }\n",
              "\n",
              "    .dataframe tbody tr th {\n",
              "        vertical-align: top;\n",
              "    }\n",
              "\n",
              "    .dataframe thead th {\n",
              "        text-align: right;\n",
              "    }\n",
              "</style>\n",
              "<table border=\"1\" class=\"dataframe\">\n",
              "  <thead>\n",
              "    <tr style=\"text-align: right;\">\n",
              "      <th></th>\n",
              "      <th>name</th>\n",
              "      <th>desc</th>\n",
              "      <th>site</th>\n",
              "      <th>tags</th>\n",
              "      <th>Unnamed: 4</th>\n",
              "      <th>upforgrabs__link</th>\n",
              "      <th>stats__issue-count</th>\n",
              "      <th>Unnamed: 7</th>\n",
              "      <th>Unnamed: 8</th>\n",
              "    </tr>\n",
              "  </thead>\n",
              "  <tbody>\n",
              "    <tr>\n",
              "      <th>0</th>\n",
              "      <td>ACMESharp</td>\n",
              "      <td>.NET Library and PowerShell module for the ACM...</td>\n",
              "      <td>https://github.com/ebekker/ACMESharp</td>\n",
              "      <td>.net</td>\n",
              "      <td>NaN</td>\n",
              "      <td>https://github.com/ebekker/ACMESharp/labels/up...</td>\n",
              "      <td>0</td>\n",
              "      <td>NaN</td>\n",
              "      <td>NaN</td>\n",
              "    </tr>\n",
              "    <tr>\n",
              "      <th>1</th>\n",
              "      <td>NaN</td>\n",
              "      <td>NaN</td>\n",
              "      <td>NaN</td>\n",
              "      <td>c#</td>\n",
              "      <td>NaN</td>\n",
              "      <td>NaN</td>\n",
              "      <td>NaN</td>\n",
              "      <td>NaN</td>\n",
              "      <td>NaN</td>\n",
              "    </tr>\n",
              "    <tr>\n",
              "      <th>2</th>\n",
              "      <td>NaN</td>\n",
              "      <td>NaN</td>\n",
              "      <td>NaN</td>\n",
              "      <td>powershell</td>\n",
              "      <td>NaN</td>\n",
              "      <td>NaN</td>\n",
              "      <td>NaN</td>\n",
              "      <td>NaN</td>\n",
              "      <td>NaN</td>\n",
              "    </tr>\n",
              "    <tr>\n",
              "      <th>3</th>\n",
              "      <td>NaN</td>\n",
              "      <td>NaN</td>\n",
              "      <td>NaN</td>\n",
              "      <td>security</td>\n",
              "      <td>NaN</td>\n",
              "      <td>NaN</td>\n",
              "      <td>NaN</td>\n",
              "      <td>NaN</td>\n",
              "      <td>NaN</td>\n",
              "    </tr>\n",
              "    <tr>\n",
              "      <th>4</th>\n",
              "      <td>NaN</td>\n",
              "      <td>NaN</td>\n",
              "      <td>NaN</td>\n",
              "      <td>aws</td>\n",
              "      <td>NaN</td>\n",
              "      <td>NaN</td>\n",
              "      <td>NaN</td>\n",
              "      <td>NaN</td>\n",
              "      <td>NaN</td>\n",
              "    </tr>\n",
              "    <tr>\n",
              "      <th>...</th>\n",
              "      <td>...</td>\n",
              "      <td>...</td>\n",
              "      <td>...</td>\n",
              "      <td>...</td>\n",
              "      <td>...</td>\n",
              "      <td>...</td>\n",
              "      <td>...</td>\n",
              "      <td>...</td>\n",
              "      <td>...</td>\n",
              "    </tr>\n",
              "    <tr>\n",
              "      <th>6247</th>\n",
              "      <td>NaN</td>\n",
              "      <td>NaN</td>\n",
              "      <td>NaN</td>\n",
              "      <td>vuejs</td>\n",
              "      <td>NaN</td>\n",
              "      <td>NaN</td>\n",
              "      <td>NaN</td>\n",
              "      <td>NaN</td>\n",
              "      <td>NaN</td>\n",
              "    </tr>\n",
              "    <tr>\n",
              "      <th>6248</th>\n",
              "      <td>Accessibility Insights for Web</td>\n",
              "      <td>Accessibility Insights for Web is a Google Chr...</td>\n",
              "      <td>https://accessibilityinsights.io</td>\n",
              "      <td>chrome-extension</td>\n",
              "      <td>NaN</td>\n",
              "      <td>https://github.com/microsoft/accessibility-ins...</td>\n",
              "      <td>7</td>\n",
              "      <td>NaN</td>\n",
              "      <td>NaN</td>\n",
              "    </tr>\n",
              "    <tr>\n",
              "      <th>6249</th>\n",
              "      <td>NaN</td>\n",
              "      <td>NaN</td>\n",
              "      <td>NaN</td>\n",
              "      <td>reactjs</td>\n",
              "      <td>NaN</td>\n",
              "      <td>NaN</td>\n",
              "      <td>NaN</td>\n",
              "      <td>NaN</td>\n",
              "      <td>NaN</td>\n",
              "    </tr>\n",
              "    <tr>\n",
              "      <th>6250</th>\n",
              "      <td>NaN</td>\n",
              "      <td>NaN</td>\n",
              "      <td>NaN</td>\n",
              "      <td>typescript</td>\n",
              "      <td>NaN</td>\n",
              "      <td>NaN</td>\n",
              "      <td>NaN</td>\n",
              "      <td>NaN</td>\n",
              "      <td>NaN</td>\n",
              "    </tr>\n",
              "    <tr>\n",
              "      <th>6251</th>\n",
              "      <td>NaN</td>\n",
              "      <td>NaN</td>\n",
              "      <td>NaN</td>\n",
              "      <td>accessibility</td>\n",
              "      <td>NaN</td>\n",
              "      <td>NaN</td>\n",
              "      <td>NaN</td>\n",
              "      <td>NaN</td>\n",
              "      <td>NaN</td>\n",
              "    </tr>\n",
              "  </tbody>\n",
              "</table>\n",
              "<p>6252 rows × 9 columns</p>\n",
              "</div>\n",
              "      <button class=\"colab-df-convert\" onclick=\"convertToInteractive('df-5b092101-a2c1-4c75-9627-dffcd7e8f7e4')\"\n",
              "              title=\"Convert this dataframe to an interactive table.\"\n",
              "              style=\"display:none;\">\n",
              "        \n",
              "  <svg xmlns=\"http://www.w3.org/2000/svg\" height=\"24px\"viewBox=\"0 0 24 24\"\n",
              "       width=\"24px\">\n",
              "    <path d=\"M0 0h24v24H0V0z\" fill=\"none\"/>\n",
              "    <path d=\"M18.56 5.44l.94 2.06.94-2.06 2.06-.94-2.06-.94-.94-2.06-.94 2.06-2.06.94zm-11 1L8.5 8.5l.94-2.06 2.06-.94-2.06-.94L8.5 2.5l-.94 2.06-2.06.94zm10 10l.94 2.06.94-2.06 2.06-.94-2.06-.94-.94-2.06-.94 2.06-2.06.94z\"/><path d=\"M17.41 7.96l-1.37-1.37c-.4-.4-.92-.59-1.43-.59-.52 0-1.04.2-1.43.59L10.3 9.45l-7.72 7.72c-.78.78-.78 2.05 0 2.83L4 21.41c.39.39.9.59 1.41.59.51 0 1.02-.2 1.41-.59l7.78-7.78 2.81-2.81c.8-.78.8-2.07 0-2.86zM5.41 20L4 18.59l7.72-7.72 1.47 1.35L5.41 20z\"/>\n",
              "  </svg>\n",
              "      </button>\n",
              "      \n",
              "  <style>\n",
              "    .colab-df-container {\n",
              "      display:flex;\n",
              "      flex-wrap:wrap;\n",
              "      gap: 12px;\n",
              "    }\n",
              "\n",
              "    .colab-df-convert {\n",
              "      background-color: #E8F0FE;\n",
              "      border: none;\n",
              "      border-radius: 50%;\n",
              "      cursor: pointer;\n",
              "      display: none;\n",
              "      fill: #1967D2;\n",
              "      height: 32px;\n",
              "      padding: 0 0 0 0;\n",
              "      width: 32px;\n",
              "    }\n",
              "\n",
              "    .colab-df-convert:hover {\n",
              "      background-color: #E2EBFA;\n",
              "      box-shadow: 0px 1px 2px rgba(60, 64, 67, 0.3), 0px 1px 3px 1px rgba(60, 64, 67, 0.15);\n",
              "      fill: #174EA6;\n",
              "    }\n",
              "\n",
              "    [theme=dark] .colab-df-convert {\n",
              "      background-color: #3B4455;\n",
              "      fill: #D2E3FC;\n",
              "    }\n",
              "\n",
              "    [theme=dark] .colab-df-convert:hover {\n",
              "      background-color: #434B5C;\n",
              "      box-shadow: 0px 1px 3px 1px rgba(0, 0, 0, 0.15);\n",
              "      filter: drop-shadow(0px 1px 2px rgba(0, 0, 0, 0.3));\n",
              "      fill: #FFFFFF;\n",
              "    }\n",
              "  </style>\n",
              "\n",
              "      <script>\n",
              "        const buttonEl =\n",
              "          document.querySelector('#df-5b092101-a2c1-4c75-9627-dffcd7e8f7e4 button.colab-df-convert');\n",
              "        buttonEl.style.display =\n",
              "          google.colab.kernel.accessAllowed ? 'block' : 'none';\n",
              "\n",
              "        async function convertToInteractive(key) {\n",
              "          const element = document.querySelector('#df-5b092101-a2c1-4c75-9627-dffcd7e8f7e4');\n",
              "          const dataTable =\n",
              "            await google.colab.kernel.invokeFunction('convertToInteractive',\n",
              "                                                     [key], {});\n",
              "          if (!dataTable) return;\n",
              "\n",
              "          const docLinkHtml = 'Like what you see? Visit the ' +\n",
              "            '<a target=\"_blank\" href=https://colab.research.google.com/notebooks/data_table.ipynb>data table notebook</a>'\n",
              "            + ' to learn more about interactive tables.';\n",
              "          element.innerHTML = '';\n",
              "          dataTable['output_type'] = 'display_data';\n",
              "          await google.colab.output.renderOutput(dataTable, element);\n",
              "          const docLink = document.createElement('div');\n",
              "          docLink.innerHTML = docLinkHtml;\n",
              "          element.appendChild(docLink);\n",
              "        }\n",
              "      </script>\n",
              "    </div>\n",
              "  </div>\n",
              "  "
            ]
          },
          "metadata": {},
          "execution_count": 11
        }
      ]
    },
    {
      "cell_type": "markdown",
      "source": [
        "Combining the different attributes of the dataset into a single string"
      ],
      "metadata": {
        "id": "3IatYPOmWQga"
      }
    },
    {
      "cell_type": "code",
      "source": [
        "# Combining the different attributes of the dataset into a single string\n",
        "df['content'] = df['name'].astype(str) + ' ' + df['desc'].astype(str) + ' ' + df['tags'] + ' ' + df['upforgrabs__link'].astype(str)\n",
        "df['content'] = df['content'].fillna('')\n",
        "df['content']"
      ],
      "metadata": {
        "colab": {
          "base_uri": "https://localhost:8080/"
        },
        "id": "qTln6dA0WZ8G",
        "outputId": "79f46405-9d1a-41ce-d91f-ba9e50a8828d"
      },
      "execution_count": 12,
      "outputs": [
        {
          "output_type": "execute_result",
          "data": {
            "text/plain": [
              "0       ACMESharp .NET Library and PowerShell module f...\n",
              "1                                          nan nan c# nan\n",
              "2                                  nan nan powershell nan\n",
              "3                                    nan nan security nan\n",
              "4                                         nan nan aws nan\n",
              "                              ...                        \n",
              "6247                                    nan nan vuejs nan\n",
              "6248    Accessibility Insights for Web Accessibility I...\n",
              "6249                                  nan nan reactjs nan\n",
              "6250                               nan nan typescript nan\n",
              "6251                            nan nan accessibility nan\n",
              "Name: content, Length: 6252, dtype: object"
            ]
          },
          "metadata": {},
          "execution_count": 12
        }
      ]
    },
    {
      "cell_type": "markdown",
      "source": [
        "Tokenize content for Word2Vec"
      ],
      "metadata": {
        "id": "j00AFEYnWfQE"
      }
    },
    {
      "cell_type": "code",
      "source": [
        "# Tokenize content for Word2Vec\n",
        "df['tokenized_content'] = df['content'].apply(simple_preprocess)\n",
        "df['tokenized_content']"
      ],
      "metadata": {
        "colab": {
          "base_uri": "https://localhost:8080/"
        },
        "id": "oSKnjKXjWygZ",
        "outputId": "a1f97f61-8fe2-4674-ae2e-01ae316be7ed"
      },
      "execution_count": 13,
      "outputs": [
        {
          "output_type": "execute_result",
          "data": {
            "text/plain": [
              "0       [acmesharp, net, library, and, powershell, mod...\n",
              "1                                         [nan, nan, nan]\n",
              "2                             [nan, nan, powershell, nan]\n",
              "3                               [nan, nan, security, nan]\n",
              "4                                    [nan, nan, aws, nan]\n",
              "                              ...                        \n",
              "6247                               [nan, nan, vuejs, nan]\n",
              "6248    [accessibility, insights, for, web, accessibil...\n",
              "6249                             [nan, nan, reactjs, nan]\n",
              "6250                          [nan, nan, typescript, nan]\n",
              "6251                       [nan, nan, accessibility, nan]\n",
              "Name: tokenized_content, Length: 6252, dtype: object"
            ]
          },
          "metadata": {},
          "execution_count": 13
        }
      ]
    },
    {
      "cell_type": "markdown",
      "source": [
        "Training the Word2Vec model"
      ],
      "metadata": {
        "id": "FNbfthx_WrcU"
      }
    },
    {
      "cell_type": "code",
      "source": [
        "#Training the Word2Vec model\n",
        "model = Word2Vec(vector_size=100, window=5, min_count=1, workers=4)\n",
        "model.build_vocab(df['tokenized_content'])\n",
        "model.train(df['tokenized_content'], total_examples=model.corpus_count, epochs=10)\n"
      ],
      "metadata": {
        "id": "DKh11bEQWpWw"
      },
      "execution_count": 17,
      "outputs": []
    },
    {
      "cell_type": "markdown",
      "source": [
        "Function to average word vectors for a text"
      ],
      "metadata": {
        "id": "cQTHFk6UX7JT"
      }
    },
    {
      "cell_type": "code",
      "source": [
        "# Function to average word vectors for a text\n",
        "def average_word_vectors(words, model, vocabulary, num_features):\n",
        "    feature_vector = np.zeros((num_features,), dtype=\"float64\")\n",
        "    nwords = 0.\n",
        "    \n",
        "    for word in words:\n",
        "        if word in vocabulary: \n",
        "            nwords = nwords + 1.\n",
        "            feature_vector = np.add(feature_vector, model.wv[word])\n",
        "    \n",
        "    if nwords:\n",
        "        feature_vector = np.divide(feature_vector, nwords)\n",
        "        \n",
        "    return feature_vector"
      ],
      "metadata": {
        "id": "cRNBKNVLX6ir"
      },
      "execution_count": null,
      "outputs": []
    },
    {
      "cell_type": "markdown",
      "source": [
        "Function to compute average word vectors for all repos"
      ],
      "metadata": {
        "id": "C0uQQ5-0YDc0"
      }
    },
    {
      "cell_type": "code",
      "source": [
        "# Function to compute average word vectors for all repos\n",
        "def averaged_word_vectorizer(corpus, model, num_features):\n",
        "    vocabulary = set(model.wv.index_to_key)\n",
        "    features = [average_word_vectors(tokenized_sentence, model, vocabulary, num_features) for tokenized_sentence in corpus]\n",
        "    return np.array(features)"
      ],
      "metadata": {
        "id": "F8FhF3fbYPQF"
      },
      "execution_count": null,
      "outputs": []
    },
    {
      "cell_type": "markdown",
      "source": [
        "Compute average word vectors for all repos"
      ],
      "metadata": {
        "id": "eBT0MqwOYp0Z"
      }
    },
    {
      "cell_type": "code",
      "source": [
        "# Compute average word vectors for all repos\n",
        "w2v_feature_array = averaged_word_vectorizer(corpus=df['tokenized_content'], model=model, num_features=100)"
      ],
      "metadata": {
        "id": "Qb5piEngYnnz"
      },
      "execution_count": null,
      "outputs": []
    },
    {
      "cell_type": "markdown",
      "source": [
        "Processing & Output"
      ],
      "metadata": {
        "id": "c1zRLrDBY_eL"
      }
    },
    {
      "cell_type": "code",
      "execution_count": 10,
      "metadata": {
        "colab": {
          "base_uri": "https://localhost:8080/"
        },
        "id": "GcmKzqy9CEnR",
        "outputId": "94d596c1-0712-4eee-be44-b0b093cf3486"
      },
      "outputs": [
        {
          "output_type": "stream",
          "name": "stdout",
          "text": [
            "Enter a repository: activist\n",
            "5708: Terasology\n",
            "3084: Mautic\n",
            "3850: OpenRCT2\n",
            "3328: Mumble\n",
            "2582: Keylime\n",
            "5659: TcpDirectorySyncronizer\n",
            "2794: leon\n",
            "5692: Tenantee\n",
            "4567: PMD\n",
            "1856: FSharpRProvider\n",
            "2924: LitmusChaos\n",
            "5696: Tensorflow\n",
            "532: Books API\n",
            "119: Animate A Name\n",
            "3638: OpenDota Core\n",
            "5420: Sklean-genetic-opt\n",
            "2061: Gryphon\n",
            "4286: Opinionated Guides\n",
            "2841: LibreLingo\n"
          ]
        }
      ],
      "source": [
        "# Get the user input\n",
        "user_oss = input(\"Enter a repository: \")\n",
        "\n",
        "# Find the index of the user movie\n",
        "oss_index = df[df['name'] == user_oss].index[0]\n",
        "\n",
        "# Compute the cosine similarities between the user movie and all other movies\n",
        "user_oss_vector = w2v_feature_array[oss_index].reshape(1, -1)\n",
        "similarity_scores = cosine_similarity(user_oss_vector, w2v_feature_array)\n",
        "\n",
        "# Get the top 10 most similar movies\n",
        "similar_repos = list(enumerate(similarity_scores[0]))\n",
        "sorted_similar_repos = sorted(similar_repos, key=lambda x: x[1], reverse=True)[1:20]\n",
        "\n",
        "# Print the top 10 similar repos\n",
        "for i, score in sorted_similar_repos:\n",
        "    print(\"{}: {}\".format(i, df.loc[i, 'name']))"
      ]
    }
  ]
}